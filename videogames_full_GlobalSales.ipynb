{
  "nbformat": 4,
  "nbformat_minor": 0,
  "metadata": {
    "colab": {
      "name": "videogames_full_GlobalSales.ipynb",
      "provenance": [],
      "collapsed_sections": [],
      "authorship_tag": "ABX9TyPeBBdfQ4qdz+P2UyvQa5LQ",
      "include_colab_link": true
    },
    "kernelspec": {
      "display_name": "Python 3",
      "name": "python3"
    }
  },
  "cells": [
    {
      "cell_type": "markdown",
      "metadata": {
        "id": "view-in-github",
        "colab_type": "text"
      },
      "source": [
        "<a href=\"https://colab.research.google.com/github/johanv26/Analitica/blob/main/videogames_full_GlobalSales.ipynb\" target=\"_parent\"><img src=\"https://colab.research.google.com/assets/colab-badge.svg\" alt=\"Open In Colab\"/></a>"
      ]
    },
    {
      "cell_type": "code",
      "metadata": {
        "id": "kSfo5Wp8d-kv",
        "outputId": "efd87950-705f-4b0d-c895-e504c95b3f0f",
        "colab": {
          "base_uri": "https://localhost:8080/",
          "height": 1000
        }
      },
      "source": [
        "#descargar datos video_games\n",
        "!pip install wget\n",
        "import wget\n",
        "import pandas as pd\n",
        "#datos video juelgos-2016\n",
        "#csv file id#\n",
        "FILE_ID='1kMvhv1VpUpGmyyDZneZ7DaIpXZx9826Z'\n",
        "url='https://drive.google.com/uc?export=download&id='+FILE_ID\n",
        "#datos Colombia\n",
        "import os.path as path\n",
        "csv_file='Video_Games_Sales_as_at_22_Dec_2016.csv'\n",
        "if not path.exists(csv_file):\n",
        "  wget.download(url,csv_file)\n",
        "\n",
        "gamesdf = pd.read_csv(csv_file)\n",
        "gamesdf.head(20)\n"
      ],
      "execution_count": null,
      "outputs": [
        {
          "output_type": "stream",
          "text": [
            "Requirement already satisfied: wget in /usr/local/lib/python3.6/dist-packages (3.2)\n"
          ],
          "name": "stdout"
        },
        {
          "output_type": "execute_result",
          "data": {
            "text/html": [
              "<div>\n",
              "<style scoped>\n",
              "    .dataframe tbody tr th:only-of-type {\n",
              "        vertical-align: middle;\n",
              "    }\n",
              "\n",
              "    .dataframe tbody tr th {\n",
              "        vertical-align: top;\n",
              "    }\n",
              "\n",
              "    .dataframe thead th {\n",
              "        text-align: right;\n",
              "    }\n",
              "</style>\n",
              "<table border=\"1\" class=\"dataframe\">\n",
              "  <thead>\n",
              "    <tr style=\"text-align: right;\">\n",
              "      <th></th>\n",
              "      <th>Name</th>\n",
              "      <th>Platform</th>\n",
              "      <th>Year_of_Release</th>\n",
              "      <th>Genre</th>\n",
              "      <th>Publisher</th>\n",
              "      <th>NA_Sales</th>\n",
              "      <th>EU_Sales</th>\n",
              "      <th>JP_Sales</th>\n",
              "      <th>Other_Sales</th>\n",
              "      <th>Global_Sales</th>\n",
              "      <th>Critic_Score</th>\n",
              "      <th>Critic_Count</th>\n",
              "      <th>User_Score</th>\n",
              "      <th>User_Count</th>\n",
              "      <th>Developer</th>\n",
              "      <th>Rating</th>\n",
              "    </tr>\n",
              "  </thead>\n",
              "  <tbody>\n",
              "    <tr>\n",
              "      <th>0</th>\n",
              "      <td>Wii Sports</td>\n",
              "      <td>Wii</td>\n",
              "      <td>2006.0</td>\n",
              "      <td>Sports</td>\n",
              "      <td>Nintendo</td>\n",
              "      <td>41.36</td>\n",
              "      <td>28.96</td>\n",
              "      <td>3.77</td>\n",
              "      <td>8.45</td>\n",
              "      <td>82.53</td>\n",
              "      <td>76.0</td>\n",
              "      <td>51.0</td>\n",
              "      <td>8</td>\n",
              "      <td>322.0</td>\n",
              "      <td>Nintendo</td>\n",
              "      <td>E</td>\n",
              "    </tr>\n",
              "    <tr>\n",
              "      <th>1</th>\n",
              "      <td>Super Mario Bros.</td>\n",
              "      <td>NES</td>\n",
              "      <td>1985.0</td>\n",
              "      <td>Platform</td>\n",
              "      <td>Nintendo</td>\n",
              "      <td>29.08</td>\n",
              "      <td>3.58</td>\n",
              "      <td>6.81</td>\n",
              "      <td>0.77</td>\n",
              "      <td>40.24</td>\n",
              "      <td>NaN</td>\n",
              "      <td>NaN</td>\n",
              "      <td>NaN</td>\n",
              "      <td>NaN</td>\n",
              "      <td>NaN</td>\n",
              "      <td>NaN</td>\n",
              "    </tr>\n",
              "    <tr>\n",
              "      <th>2</th>\n",
              "      <td>Mario Kart Wii</td>\n",
              "      <td>Wii</td>\n",
              "      <td>2008.0</td>\n",
              "      <td>Racing</td>\n",
              "      <td>Nintendo</td>\n",
              "      <td>15.68</td>\n",
              "      <td>12.76</td>\n",
              "      <td>3.79</td>\n",
              "      <td>3.29</td>\n",
              "      <td>35.52</td>\n",
              "      <td>82.0</td>\n",
              "      <td>73.0</td>\n",
              "      <td>8.3</td>\n",
              "      <td>709.0</td>\n",
              "      <td>Nintendo</td>\n",
              "      <td>E</td>\n",
              "    </tr>\n",
              "    <tr>\n",
              "      <th>3</th>\n",
              "      <td>Wii Sports Resort</td>\n",
              "      <td>Wii</td>\n",
              "      <td>2009.0</td>\n",
              "      <td>Sports</td>\n",
              "      <td>Nintendo</td>\n",
              "      <td>15.61</td>\n",
              "      <td>10.93</td>\n",
              "      <td>3.28</td>\n",
              "      <td>2.95</td>\n",
              "      <td>32.77</td>\n",
              "      <td>80.0</td>\n",
              "      <td>73.0</td>\n",
              "      <td>8</td>\n",
              "      <td>192.0</td>\n",
              "      <td>Nintendo</td>\n",
              "      <td>E</td>\n",
              "    </tr>\n",
              "    <tr>\n",
              "      <th>4</th>\n",
              "      <td>Pokemon Red/Pokemon Blue</td>\n",
              "      <td>GB</td>\n",
              "      <td>1996.0</td>\n",
              "      <td>Role-Playing</td>\n",
              "      <td>Nintendo</td>\n",
              "      <td>11.27</td>\n",
              "      <td>8.89</td>\n",
              "      <td>10.22</td>\n",
              "      <td>1.00</td>\n",
              "      <td>31.37</td>\n",
              "      <td>NaN</td>\n",
              "      <td>NaN</td>\n",
              "      <td>NaN</td>\n",
              "      <td>NaN</td>\n",
              "      <td>NaN</td>\n",
              "      <td>NaN</td>\n",
              "    </tr>\n",
              "    <tr>\n",
              "      <th>5</th>\n",
              "      <td>Tetris</td>\n",
              "      <td>GB</td>\n",
              "      <td>1989.0</td>\n",
              "      <td>Puzzle</td>\n",
              "      <td>Nintendo</td>\n",
              "      <td>23.20</td>\n",
              "      <td>2.26</td>\n",
              "      <td>4.22</td>\n",
              "      <td>0.58</td>\n",
              "      <td>30.26</td>\n",
              "      <td>NaN</td>\n",
              "      <td>NaN</td>\n",
              "      <td>NaN</td>\n",
              "      <td>NaN</td>\n",
              "      <td>NaN</td>\n",
              "      <td>NaN</td>\n",
              "    </tr>\n",
              "    <tr>\n",
              "      <th>6</th>\n",
              "      <td>New Super Mario Bros.</td>\n",
              "      <td>DS</td>\n",
              "      <td>2006.0</td>\n",
              "      <td>Platform</td>\n",
              "      <td>Nintendo</td>\n",
              "      <td>11.28</td>\n",
              "      <td>9.14</td>\n",
              "      <td>6.50</td>\n",
              "      <td>2.88</td>\n",
              "      <td>29.80</td>\n",
              "      <td>89.0</td>\n",
              "      <td>65.0</td>\n",
              "      <td>8.5</td>\n",
              "      <td>431.0</td>\n",
              "      <td>Nintendo</td>\n",
              "      <td>E</td>\n",
              "    </tr>\n",
              "    <tr>\n",
              "      <th>7</th>\n",
              "      <td>Wii Play</td>\n",
              "      <td>Wii</td>\n",
              "      <td>2006.0</td>\n",
              "      <td>Misc</td>\n",
              "      <td>Nintendo</td>\n",
              "      <td>13.96</td>\n",
              "      <td>9.18</td>\n",
              "      <td>2.93</td>\n",
              "      <td>2.84</td>\n",
              "      <td>28.92</td>\n",
              "      <td>58.0</td>\n",
              "      <td>41.0</td>\n",
              "      <td>6.6</td>\n",
              "      <td>129.0</td>\n",
              "      <td>Nintendo</td>\n",
              "      <td>E</td>\n",
              "    </tr>\n",
              "    <tr>\n",
              "      <th>8</th>\n",
              "      <td>New Super Mario Bros. Wii</td>\n",
              "      <td>Wii</td>\n",
              "      <td>2009.0</td>\n",
              "      <td>Platform</td>\n",
              "      <td>Nintendo</td>\n",
              "      <td>14.44</td>\n",
              "      <td>6.94</td>\n",
              "      <td>4.70</td>\n",
              "      <td>2.24</td>\n",
              "      <td>28.32</td>\n",
              "      <td>87.0</td>\n",
              "      <td>80.0</td>\n",
              "      <td>8.4</td>\n",
              "      <td>594.0</td>\n",
              "      <td>Nintendo</td>\n",
              "      <td>E</td>\n",
              "    </tr>\n",
              "    <tr>\n",
              "      <th>9</th>\n",
              "      <td>Duck Hunt</td>\n",
              "      <td>NES</td>\n",
              "      <td>1984.0</td>\n",
              "      <td>Shooter</td>\n",
              "      <td>Nintendo</td>\n",
              "      <td>26.93</td>\n",
              "      <td>0.63</td>\n",
              "      <td>0.28</td>\n",
              "      <td>0.47</td>\n",
              "      <td>28.31</td>\n",
              "      <td>NaN</td>\n",
              "      <td>NaN</td>\n",
              "      <td>NaN</td>\n",
              "      <td>NaN</td>\n",
              "      <td>NaN</td>\n",
              "      <td>NaN</td>\n",
              "    </tr>\n",
              "    <tr>\n",
              "      <th>10</th>\n",
              "      <td>Nintendogs</td>\n",
              "      <td>DS</td>\n",
              "      <td>2005.0</td>\n",
              "      <td>Simulation</td>\n",
              "      <td>Nintendo</td>\n",
              "      <td>9.05</td>\n",
              "      <td>10.95</td>\n",
              "      <td>1.93</td>\n",
              "      <td>2.74</td>\n",
              "      <td>24.67</td>\n",
              "      <td>NaN</td>\n",
              "      <td>NaN</td>\n",
              "      <td>NaN</td>\n",
              "      <td>NaN</td>\n",
              "      <td>NaN</td>\n",
              "      <td>NaN</td>\n",
              "    </tr>\n",
              "    <tr>\n",
              "      <th>11</th>\n",
              "      <td>Mario Kart DS</td>\n",
              "      <td>DS</td>\n",
              "      <td>2005.0</td>\n",
              "      <td>Racing</td>\n",
              "      <td>Nintendo</td>\n",
              "      <td>9.71</td>\n",
              "      <td>7.47</td>\n",
              "      <td>4.13</td>\n",
              "      <td>1.90</td>\n",
              "      <td>23.21</td>\n",
              "      <td>91.0</td>\n",
              "      <td>64.0</td>\n",
              "      <td>8.6</td>\n",
              "      <td>464.0</td>\n",
              "      <td>Nintendo</td>\n",
              "      <td>E</td>\n",
              "    </tr>\n",
              "    <tr>\n",
              "      <th>12</th>\n",
              "      <td>Pokemon Gold/Pokemon Silver</td>\n",
              "      <td>GB</td>\n",
              "      <td>1999.0</td>\n",
              "      <td>Role-Playing</td>\n",
              "      <td>Nintendo</td>\n",
              "      <td>9.00</td>\n",
              "      <td>6.18</td>\n",
              "      <td>7.20</td>\n",
              "      <td>0.71</td>\n",
              "      <td>23.10</td>\n",
              "      <td>NaN</td>\n",
              "      <td>NaN</td>\n",
              "      <td>NaN</td>\n",
              "      <td>NaN</td>\n",
              "      <td>NaN</td>\n",
              "      <td>NaN</td>\n",
              "    </tr>\n",
              "    <tr>\n",
              "      <th>13</th>\n",
              "      <td>Wii Fit</td>\n",
              "      <td>Wii</td>\n",
              "      <td>2007.0</td>\n",
              "      <td>Sports</td>\n",
              "      <td>Nintendo</td>\n",
              "      <td>8.92</td>\n",
              "      <td>8.03</td>\n",
              "      <td>3.60</td>\n",
              "      <td>2.15</td>\n",
              "      <td>22.70</td>\n",
              "      <td>80.0</td>\n",
              "      <td>63.0</td>\n",
              "      <td>7.7</td>\n",
              "      <td>146.0</td>\n",
              "      <td>Nintendo</td>\n",
              "      <td>E</td>\n",
              "    </tr>\n",
              "    <tr>\n",
              "      <th>14</th>\n",
              "      <td>Kinect Adventures!</td>\n",
              "      <td>X360</td>\n",
              "      <td>2010.0</td>\n",
              "      <td>Misc</td>\n",
              "      <td>Microsoft Game Studios</td>\n",
              "      <td>15.00</td>\n",
              "      <td>4.89</td>\n",
              "      <td>0.24</td>\n",
              "      <td>1.69</td>\n",
              "      <td>21.81</td>\n",
              "      <td>61.0</td>\n",
              "      <td>45.0</td>\n",
              "      <td>6.3</td>\n",
              "      <td>106.0</td>\n",
              "      <td>Good Science Studio</td>\n",
              "      <td>E</td>\n",
              "    </tr>\n",
              "    <tr>\n",
              "      <th>15</th>\n",
              "      <td>Wii Fit Plus</td>\n",
              "      <td>Wii</td>\n",
              "      <td>2009.0</td>\n",
              "      <td>Sports</td>\n",
              "      <td>Nintendo</td>\n",
              "      <td>9.01</td>\n",
              "      <td>8.49</td>\n",
              "      <td>2.53</td>\n",
              "      <td>1.77</td>\n",
              "      <td>21.79</td>\n",
              "      <td>80.0</td>\n",
              "      <td>33.0</td>\n",
              "      <td>7.4</td>\n",
              "      <td>52.0</td>\n",
              "      <td>Nintendo</td>\n",
              "      <td>E</td>\n",
              "    </tr>\n",
              "    <tr>\n",
              "      <th>16</th>\n",
              "      <td>Grand Theft Auto V</td>\n",
              "      <td>PS3</td>\n",
              "      <td>2013.0</td>\n",
              "      <td>Action</td>\n",
              "      <td>Take-Two Interactive</td>\n",
              "      <td>7.02</td>\n",
              "      <td>9.09</td>\n",
              "      <td>0.98</td>\n",
              "      <td>3.96</td>\n",
              "      <td>21.04</td>\n",
              "      <td>97.0</td>\n",
              "      <td>50.0</td>\n",
              "      <td>8.2</td>\n",
              "      <td>3994.0</td>\n",
              "      <td>Rockstar North</td>\n",
              "      <td>M</td>\n",
              "    </tr>\n",
              "    <tr>\n",
              "      <th>17</th>\n",
              "      <td>Grand Theft Auto: San Andreas</td>\n",
              "      <td>PS2</td>\n",
              "      <td>2004.0</td>\n",
              "      <td>Action</td>\n",
              "      <td>Take-Two Interactive</td>\n",
              "      <td>9.43</td>\n",
              "      <td>0.40</td>\n",
              "      <td>0.41</td>\n",
              "      <td>10.57</td>\n",
              "      <td>20.81</td>\n",
              "      <td>95.0</td>\n",
              "      <td>80.0</td>\n",
              "      <td>9</td>\n",
              "      <td>1588.0</td>\n",
              "      <td>Rockstar North</td>\n",
              "      <td>M</td>\n",
              "    </tr>\n",
              "    <tr>\n",
              "      <th>18</th>\n",
              "      <td>Super Mario World</td>\n",
              "      <td>SNES</td>\n",
              "      <td>1990.0</td>\n",
              "      <td>Platform</td>\n",
              "      <td>Nintendo</td>\n",
              "      <td>12.78</td>\n",
              "      <td>3.75</td>\n",
              "      <td>3.54</td>\n",
              "      <td>0.55</td>\n",
              "      <td>20.61</td>\n",
              "      <td>NaN</td>\n",
              "      <td>NaN</td>\n",
              "      <td>NaN</td>\n",
              "      <td>NaN</td>\n",
              "      <td>NaN</td>\n",
              "      <td>NaN</td>\n",
              "    </tr>\n",
              "    <tr>\n",
              "      <th>19</th>\n",
              "      <td>Brain Age: Train Your Brain in Minutes a Day</td>\n",
              "      <td>DS</td>\n",
              "      <td>2005.0</td>\n",
              "      <td>Misc</td>\n",
              "      <td>Nintendo</td>\n",
              "      <td>4.74</td>\n",
              "      <td>9.20</td>\n",
              "      <td>4.16</td>\n",
              "      <td>2.04</td>\n",
              "      <td>20.15</td>\n",
              "      <td>77.0</td>\n",
              "      <td>58.0</td>\n",
              "      <td>7.9</td>\n",
              "      <td>50.0</td>\n",
              "      <td>Nintendo</td>\n",
              "      <td>E</td>\n",
              "    </tr>\n",
              "  </tbody>\n",
              "</table>\n",
              "</div>"
            ],
            "text/plain": [
              "                                            Name  ... Rating\n",
              "0                                     Wii Sports  ...      E\n",
              "1                              Super Mario Bros.  ...    NaN\n",
              "2                                 Mario Kart Wii  ...      E\n",
              "3                              Wii Sports Resort  ...      E\n",
              "4                       Pokemon Red/Pokemon Blue  ...    NaN\n",
              "5                                         Tetris  ...    NaN\n",
              "6                          New Super Mario Bros.  ...      E\n",
              "7                                       Wii Play  ...      E\n",
              "8                      New Super Mario Bros. Wii  ...      E\n",
              "9                                      Duck Hunt  ...    NaN\n",
              "10                                    Nintendogs  ...    NaN\n",
              "11                                 Mario Kart DS  ...      E\n",
              "12                   Pokemon Gold/Pokemon Silver  ...    NaN\n",
              "13                                       Wii Fit  ...      E\n",
              "14                            Kinect Adventures!  ...      E\n",
              "15                                  Wii Fit Plus  ...      E\n",
              "16                            Grand Theft Auto V  ...      M\n",
              "17                 Grand Theft Auto: San Andreas  ...      M\n",
              "18                             Super Mario World  ...    NaN\n",
              "19  Brain Age: Train Your Brain in Minutes a Day  ...      E\n",
              "\n",
              "[20 rows x 16 columns]"
            ]
          },
          "metadata": {
            "tags": []
          },
          "execution_count": 34
        }
      ]
    },
    {
      "cell_type": "code",
      "metadata": {
        "id": "NWK4HczeeMBy",
        "outputId": "fb677381-7d74-4401-d14c-fa1c884a55f3",
        "colab": {
          "base_uri": "https://localhost:8080/",
          "height": 230
        }
      },
      "source": [
        "#Paso 2: Particion entrenamiento y validacion\n",
        "#Tamanio Xtrain 70%. Tamanio Xtest=30%\n",
        "from sklearn.model_selection import train_test_split\n",
        "import warnings\n",
        "from sklearn.impute import SimpleImputer \n",
        "from sklearn.model_selection import train_test_split, GridSearchCV,cross_val_score, cross_val_predict\n",
        "from sklearn.metrics import mean_absolute_error\n",
        "from sklearn.pipeline import Pipeline\n",
        "\n",
        "warnings.filterwarnings(\"ignore\")\n",
        "df_train, df_test =train_test_split(gamesdf,test_size=0.3)\n",
        "col_sal= 'Year_of_Release'\n",
        "ytrain=df_train[col_sal]\n",
        "ytest=df_test[col_sal]\n",
        "df_train.drop(columns=col_sal,inplace=True)\n",
        "df_test.drop(columns=col_sal,inplace=True)\n",
        "ytrain"
      ],
      "execution_count": null,
      "outputs": [
        {
          "output_type": "execute_result",
          "data": {
            "text/plain": [
              "5009     1996.0\n",
              "11339       NaN\n",
              "11143    2011.0\n",
              "16427    2016.0\n",
              "176      2012.0\n",
              "          ...  \n",
              "6089     1997.0\n",
              "6808     2008.0\n",
              "10037    2004.0\n",
              "11894    2011.0\n",
              "2247     2015.0\n",
              "Name: Year_of_Release, Length: 11703, dtype: float64"
            ]
          },
          "metadata": {
            "tags": []
          },
          "execution_count": 35
        }
      ]
    },
    {
      "cell_type": "code",
      "metadata": {
        "id": "qlroDgFveO9A",
        "outputId": "939de7e2-6676-4ffa-fcd7-eb705a934dde",
        "colab": {
          "base_uri": "https://localhost:8080/",
          "height": 35
        }
      },
      "source": [
        "#Completao de datos por moda de la salida Global sales\n",
        "from sklearn.impute import SimpleImputer\n",
        "imputer=SimpleImputer(strategy='most_frequent')\n",
        "ytrain=imputer.fit_transform(pd.DataFrame(ytrain))\n",
        "ytrain=ytrain.reshape(-1)\n",
        "\n",
        "ytest=imputer.transform(pd.DataFrame(ytest))\n",
        "ytest=ytest.reshape(-1)\n",
        "\n",
        "print(ytrain.shape,ytest.shape)"
      ],
      "execution_count": null,
      "outputs": [
        {
          "output_type": "stream",
          "text": [
            "(11703,) (5016,)\n"
          ],
          "name": "stdout"
        }
      ]
    },
    {
      "cell_type": "code",
      "metadata": {
        "id": "XtPatvHreQ4a"
      },
      "source": [
        "import numpy as np"
      ],
      "execution_count": null,
      "outputs": []
    },
    {
      "cell_type": "code",
      "metadata": {
        "id": "taxDCY2ceRxw",
        "outputId": "ced32ab9-140f-4058-ca4c-5ea39f4a0c2a",
        "colab": {
          "base_uri": "https://localhost:8080/",
          "height": 513
        }
      },
      "source": [
        "import matplotlib.pyplot as plt\n",
        "plt.hist(ytrain,bins=100)\n",
        "plt.show()\n",
        "\n",
        "#diagrama de caja\n",
        "\n",
        "#caja->\n",
        "plt.boxplot(ytrain)\n",
        "plt.show()"
      ],
      "execution_count": null,
      "outputs": [
        {
          "output_type": "display_data",
          "data": {
            "image/png": "[encoded data removed]",
            "text/plain": [
              "<Figure size 432x288 with 1 Axes>"
            ]
          },
          "metadata": {
            "tags": [],
            "needs_background": "light"
          }
        },
        {
          "output_type": "display_data",
          "data": {
            "image/png": "[encoded data removed]",
            "text/plain": [
              "<Figure size 432x288 with 1 Axes>"
            ]
          },
          "metadata": {
            "tags": [],
            "needs_background": "light"
          }
        }
      ]
    },
    {
      "cell_type": "code",
      "metadata": {
        "id": "Di3e2GkqeYDF"
      },
      "source": [
        "#definir columnas \n",
        "col_scores = ['User_Score','Critic_Score','Critic_Count','User_Count']\n",
        "# Strange values tbd\n",
        "\n",
        "cat = ['Name','Platform','Genre','Publisher','Developer','Rating']\n",
        "items = [] \n",
        "for i in cat:\n",
        "    items += [list(gamesdf[i].value_counts().index)]\n",
        "cat_names = dict(zip(cat, items))"
      ],
      "execution_count": null,
      "outputs": []
    },
    {
      "cell_type": "markdown",
      "metadata": {
        "id": "Ud43r7HzeekW"
      },
      "source": [
        "\n",
        "\n",
        "```\n",
        "# Tiene formato de código\n",
        "```\n",
        "\n",
        " #Crear clase propia de preproceso para video juegos"
      ]
    },
    {
      "cell_type": "code",
      "metadata": {
        "id": "zJaVhGEoebx9"
      },
      "source": [
        "#%% dummy transformer\n",
        "from sklearn.base import BaseEstimator\n",
        "from sklearn.base import TransformerMixin\n",
        "from sklearn.preprocessing import OrdinalEncoder,OneHotEncoder\n",
        "class dummy_games(BaseEstimator,TransformerMixin):\n",
        "    #inicializacion de clase y varaibles\n",
        "    def __init__(self,col_scores, cat_usr):#constructor clase\n",
        "        \n",
        "        self.col_stats = col_scores#lista atributos tipo score\n",
        "        self.cat_usr = cat_usr #lista de atributos categoricos\n",
        "\n",
        "    def fit(self,X, *_):\n",
        "        Xi = X.copy() #copiar dataset para no reemplazar original\n",
        "        self.imputer_num = SimpleImputer(strategy=\"most_frequent\")#crear imputador tipo modo\n",
        "        self.a = Xi.columns[np.sum(Xi.isna())> 0] #encontrar columnas con datos faltantes\n",
        "        #print(a)\n",
        "        self.imputer_num.fit(Xi[self.a])# ajustar imputador\n",
        "        \n",
        "        Xi[self.a] = self.imputer_num.transform(Xi[self.a]) #evaluar  sobre datos imputador\n",
        "        \n",
        "        #codificar\n",
        "        #only User_Score is cnahge the tbd most frequetn for mean.\n",
        "        frec_val=gamesdf['User_Score'].value_counts()\n",
        "        mean=np.mean(frec_val.index[1:].astype('float64')) \n",
        "        Xi['User_Score'].replace(regex=[\"tbd\"], value=mean,inplace=True)      \n",
        "        Xi['User_Score'] = Xi['User_Score'].astype('float64');\n",
        "        \n",
        "\n",
        "        \n",
        "        \n",
        "        \n",
        "        cat = []#codificar variables categoricas con ordinal encoder\n",
        "        for i in self.cat_usr.keys():\n",
        "            cat = cat + [[*self.cat_usr.get(i)]]\n",
        "        self.col_cat_usr = OrdinalEncoder(categories=cat)\n",
        "        Xi[[*self.cat_usr.keys()]] =self.col_cat_usr.fit_transform(Xi[[*self.cat_usr.keys()]])\n",
        "        \n",
        "\n",
        "        \n",
        "        return self    \n",
        "\n",
        "    def transform(self, X, *_):\n",
        "        Xi = X.copy()\n",
        "        Xi[self.a] = self.imputer_num.transform(Xi[self.a])\n",
        "\n",
        "              \n",
        "        frec_val=gamesdf['User_Score'].value_counts()\n",
        "        mean=np.mean(frec_val.index[1:].astype('float64')) \n",
        "        Xi['User_Score'].replace(regex=[\"tbd\"], value=mean,inplace=True)      \n",
        "        Xi['User_Score'] = Xi['User_Score'].astype('float64');\n",
        "          \n",
        "        Xi[[*self.cat_usr.keys()]] =self.col_cat_usr.transform(Xi[[*self.cat_usr.keys()]])\n",
        "        \n",
        "        #Fase de transformacion\n",
        "        #\n",
        "        \n",
        "        return Xi\n",
        "    \n",
        "    def fit_transform(self,X,*_):\n",
        "        self.fit(X)\n",
        "        return self.transform(X)\n",
        "#%%"
      ],
      "execution_count": null,
      "outputs": []
    },
    {
      "cell_type": "code",
      "metadata": {
        "id": "--xHifVeekqE",
        "outputId": "af627ed0-ee53-4768-b287-e7fbaeed4139",
        "colab": {
          "base_uri": "https://localhost:8080/",
          "height": 408
        }
      },
      "source": [
        "dummy=dummy_games(col_scores=col_scores,cat_usr=cat_names)\n",
        "dftrain_pre=dummy.fit_transform(df_train)\n",
        "dftrain_pre.info()"
      ],
      "execution_count": null,
      "outputs": [
        {
          "output_type": "stream",
          "text": [
            "<class 'pandas.core.frame.DataFrame'>\n",
            "Int64Index: 11703 entries, 5009 to 2247\n",
            "Data columns (total 15 columns):\n",
            " #   Column        Non-Null Count  Dtype  \n",
            "---  ------        --------------  -----  \n",
            " 0   Name          11703 non-null  float64\n",
            " 1   Platform      11703 non-null  float64\n",
            " 2   Genre         11703 non-null  float64\n",
            " 3   Publisher     11703 non-null  float64\n",
            " 4   NA_Sales      11703 non-null  float64\n",
            " 5   EU_Sales      11703 non-null  float64\n",
            " 6   JP_Sales      11703 non-null  float64\n",
            " 7   Other_Sales   11703 non-null  float64\n",
            " 8   Global_Sales  11703 non-null  float64\n",
            " 9   Critic_Score  11703 non-null  float64\n",
            " 10  Critic_Count  11703 non-null  float64\n",
            " 11  User_Score    11703 non-null  float64\n",
            " 12  User_Count    11703 non-null  float64\n",
            " 13  Developer     11703 non-null  float64\n",
            " 14  Rating        11703 non-null  float64\n",
            "dtypes: float64(15)\n",
            "memory usage: 1.4 MB\n"
          ],
          "name": "stdout"
        }
      ]
    },
    {
      "cell_type": "markdown",
      "metadata": {
        "id": "CQ14Tjl4emwA"
      },
      "source": [
        "# Predicción variable de interés desde datos preprocesados"
      ]
    },
    {
      "cell_type": "code",
      "metadata": {
        "id": "cE61YSZlemcJ"
      },
      "source": [
        "from sklearn.decomposition import PCA \n",
        "from sklearn.preprocessing import StandardScaler\n",
        "sca = StandardScaler()\n",
        "dftrain_pre_z = sca.fit_transform(dftrain_pre)"
      ],
      "execution_count": null,
      "outputs": []
    },
    {
      "cell_type": "code",
      "metadata": {
        "id": "CdaXawGqfIcB",
        "outputId": "8b2ab74c-ce3b-4106-ba85-7a8680d22f86",
        "colab": {
          "base_uri": "https://localhost:8080/",
          "height": 248
        }
      },
      "source": [
        "dftrain_pre_z"
      ],
      "execution_count": null,
      "outputs": [
        {
          "output_type": "execute_result",
          "data": {
            "text/plain": [
              "array([[-0.40560691,  0.04469935, -1.1516564 , ..., -0.18357   ,\n",
              "        -0.54650801, -0.63293221],\n",
              "       [-0.35593966, -0.92439375,  1.24818955, ..., -0.18357   ,\n",
              "        -0.52828737, -0.63293221],\n",
              "       [-0.9022794 , -0.53675651, -0.55169491, ..., -0.18357   ,\n",
              "        -0.52828737,  2.46977889],\n",
              "       ...,\n",
              "       [-0.52531056,  0.43233659,  0.04826658, ..., -0.18357   ,\n",
              "         3.6533485 ,  0.40130483],\n",
              "       [-0.88414249, -0.34293789,  0.64822807, ..., -0.18357   ,\n",
              "        -0.54650801, -0.63293221],\n",
              "       [-0.92599691,  1.40142969, -0.85167566, ...,  0.28249568,\n",
              "        -0.40074292, -0.63293221]])"
            ]
          },
          "metadata": {
            "tags": []
          },
          "execution_count": 43
        }
      ]
    },
    {
      "cell_type": "code",
      "metadata": {
        "id": "An4Py-QXep9Y",
        "outputId": "fe5e7992-41a6-4c4b-f103-07f532ca3544",
        "colab": {
          "base_uri": "https://localhost:8080/",
          "height": 35
        }
      },
      "source": [
        "dftrain_pre_z.var(axis=0)"
      ],
      "execution_count": null,
      "outputs": [
        {
          "output_type": "execute_result",
          "data": {
            "text/plain": [
              "array([1., 1., 1., 1., 1., 1., 1., 1., 1., 1., 1., 1., 1., 1., 1.])"
            ]
          },
          "metadata": {
            "tags": []
          },
          "execution_count": 44
        }
      ]
    },
    {
      "cell_type": "code",
      "metadata": {
        "id": "-SsVqNXKfrpZ",
        "outputId": "6f6fc475-932d-4082-8b3e-aba746f86c28",
        "colab": {
          "base_uri": "https://localhost:8080/",
          "height": 301
        }
      },
      "source": [
        "dftrain_pre.var(axis=0)"
      ],
      "execution_count": null,
      "outputs": [
        {
          "output_type": "execute_result",
          "data": {
            "text/plain": [
              "Name            1.284508e+07\n",
              "Platform        2.662233e+01\n",
              "Genre           1.111349e+01\n",
              "Publisher       5.928002e+03\n",
              "NA_Sales        6.840003e-01\n",
              "EU_Sales        2.582391e-01\n",
              "JP_Sales        9.691093e-02\n",
              "Other_Sales     4.039379e-02\n",
              "Global_Sales    2.473329e+00\n",
              "Critic_Score    9.517153e+01\n",
              "Critic_Count    2.945463e+02\n",
              "User_Score      2.147158e+00\n",
              "User_Count      1.592828e+05\n",
              "Developer       1.084458e+05\n",
              "Rating          9.349684e-01\n",
              "dtype: float64"
            ]
          },
          "metadata": {
            "tags": []
          },
          "execution_count": 45
        }
      ]
    },
    {
      "cell_type": "code",
      "metadata": {
        "id": "f2FXnCbLf4Dw"
      },
      "source": [
        "red = PCA()\n",
        "zz = red.fit_transform(dftrain_pre_z)"
      ],
      "execution_count": null,
      "outputs": []
    },
    {
      "cell_type": "code",
      "metadata": {
        "id": "dj2LyPSAf5wY",
        "outputId": "ebbc0a4d-12ce-4412-d990-3a061f4ccc49",
        "colab": {
          "base_uri": "https://localhost:8080/",
          "height": 269
        }
      },
      "source": [
        "plt.scatter(zz[:,0],zz[:,1],c=ytrain,s = 100*dftrain_pre['EU_Sales']/(dftrain_pre['EU_Sales'].max()))\n",
        "plt.colorbar()\n",
        "plt.show()"
      ],
      "execution_count": null,
      "outputs": [
        {
          "output_type": "display_data",
          "data": {
            "image/png": "[encoded data removed]",
            "text/plain": [
              "<Figure size 432x288 with 2 Axes>"
            ]
          },
          "metadata": {
            "tags": [],
            "needs_background": "light"
          }
        }
      ]
    },
    {
      "cell_type": "code",
      "metadata": {
        "id": "0JInb6Amg6rP"
      },
      "source": [
        "# proceso con test\n",
        "dftest_pre = dummy.transform(df_test)"
      ],
      "execution_count": null,
      "outputs": []
    },
    {
      "cell_type": "code",
      "metadata": {
        "id": "JILtNJvohWmJ",
        "outputId": "2d4d4551-0398-49cd-cea5-7569d5793b17",
        "colab": {
          "base_uri": "https://localhost:8080/",
          "height": 230
        }
      },
      "source": [
        "dftest_pre['EU_Sales']"
      ],
      "execution_count": null,
      "outputs": [
        {
          "output_type": "execute_result",
          "data": {
            "text/plain": [
              "12800    0.00\n",
              "15046    0.01\n",
              "9092     0.00\n",
              "2989     0.22\n",
              "6650     0.10\n",
              "         ... \n",
              "173      1.21\n",
              "6461     0.10\n",
              "5084     0.14\n",
              "11312    0.00\n",
              "16129    0.00\n",
              "Name: EU_Sales, Length: 5016, dtype: float64"
            ]
          },
          "metadata": {
            "tags": []
          },
          "execution_count": 49
        }
      ]
    },
    {
      "cell_type": "code",
      "metadata": {
        "id": "nEZxxVwvhgAe",
        "outputId": "44c07988-d731-4b43-af76-7bc5e92ad4b8",
        "colab": {
          "base_uri": "https://localhost:8080/",
          "height": 408
        }
      },
      "source": [
        "dftest_pre.info()"
      ],
      "execution_count": null,
      "outputs": [
        {
          "output_type": "stream",
          "text": [
            "<class 'pandas.core.frame.DataFrame'>\n",
            "Int64Index: 5016 entries, 12800 to 16129\n",
            "Data columns (total 15 columns):\n",
            " #   Column        Non-Null Count  Dtype  \n",
            "---  ------        --------------  -----  \n",
            " 0   Name          5016 non-null   float64\n",
            " 1   Platform      5016 non-null   float64\n",
            " 2   Genre         5016 non-null   float64\n",
            " 3   Publisher     5016 non-null   float64\n",
            " 4   NA_Sales      5016 non-null   float64\n",
            " 5   EU_Sales      5016 non-null   float64\n",
            " 6   JP_Sales      5016 non-null   float64\n",
            " 7   Other_Sales   5016 non-null   float64\n",
            " 8   Global_Sales  5016 non-null   float64\n",
            " 9   Critic_Score  5016 non-null   float64\n",
            " 10  Critic_Count  5016 non-null   float64\n",
            " 11  User_Score    5016 non-null   float64\n",
            " 12  User_Count    5016 non-null   float64\n",
            " 13  Developer     5016 non-null   float64\n",
            " 14  Rating        5016 non-null   float64\n",
            "dtypes: float64(15)\n",
            "memory usage: 627.0 KB\n"
          ],
          "name": "stdout"
        }
      ]
    },
    {
      "cell_type": "code",
      "metadata": {
        "id": "6ZmlHn38h-7Q"
      },
      "source": [
        "#Xtest_pre_z = sca.transform(Xtest_pre) # standardizacion\n",
        "#zztest = red.transform(Xtest_pre_z) # llevarlo a 2D con pca\n",
        "\n",
        "zztest = red.transform(sca.transform(dummy.transform(df_test))) # una sola linea"
      ],
      "execution_count": null,
      "outputs": []
    },
    {
      "cell_type": "code",
      "metadata": {
        "id": "Ad_LCp5ZiGx1",
        "outputId": "7dce952a-4324-4c34-b58c-aaea97303704",
        "colab": {
          "base_uri": "https://localhost:8080/",
          "height": 269
        }
      },
      "source": [
        "plt.scatter(zz[:,0],zz[:,1],c=ytrain,s = 100*dftrain_pre['EU_Sales']/(dftrain_pre['EU_Sales'].max()),label='train')\n",
        "plt.colorbar()\n",
        "plt.scatter(zztest[:,0],zztest[:,1],c=ytest,s=100*dftest_pre['EU_Sales']/dftest_pre['EU_Sales'].max(),marker='d',label='test')\n",
        "plt.legend()\n",
        "plt.show()"
      ],
      "execution_count": null,
      "outputs": [
        {
          "output_type": "display_data",
          "data": {
            "image/png": "[encoded data removed]",
            "text/plain": [
              "<Figure size 432x288 with 2 Axes>"
            ]
          },
          "metadata": {
            "tags": [],
            "needs_background": "light"
          }
        }
      ]
    },
    {
      "cell_type": "code",
      "metadata": {
        "id": "DMnvpSMWiL0o"
      },
      "source": [
        "# definir modelos de predicción\n",
        "from sklearn.linear_model import LinearRegression, ElasticNet\n",
        "\n",
        "steps = [\n",
        "         [('scaler', StandardScaler()), #estandarizar cada atributo columna de xtrain centrada en 0 y var = 1\n",
        "          ('reg', LinearRegression())],\n",
        "         \n",
        "         [('scaler',StandardScaler()),\n",
        "          ('reg',ElasticNet())]\n",
        "         \n",
        "        # [('scaler', StandardScaler()), #estandarizar cada atriuto columna de xtrain centrada en 0 y var = 1\n",
        "        #  ('reg',  KernelRidge(kernel = 'rbf'))], #clasificador \n",
        "         ]        \n",
        "\n",
        "#parametros a buscar por busqueda por grilla\n",
        "parameters =[ \n",
        "             {'reg__fit_intercept':[True, False]             \n",
        "             },\n",
        "             {\n",
        "              'reg__alpha': [0,1e-3,1e-2,1e-1,1,10], #parametros n_neighbors debe ser siempre un int\n",
        "              'reg__l1_ratio':[0,0.25,0.5,0.75,1]\n",
        "             }\n",
        "              ]\n",
        "\n",
        "label_model = ['Nor+RegLin','Nor+ElasticNet']"
      ],
      "execution_count": null,
      "outputs": []
    },
    {
      "cell_type": "code",
      "metadata": {
        "id": "nr48B0buiqf1",
        "outputId": "3d323b0c-fd85-4663-a037-4c86a395297b",
        "colab": {
          "base_uri": "https://localhost:8080/",
          "height": 70
        }
      },
      "source": [
        "parameters"
      ],
      "execution_count": null,
      "outputs": [
        {
          "output_type": "execute_result",
          "data": {
            "text/plain": [
              "[{'reg__fit_intercept': [True, False]},\n",
              " {'reg__alpha': [0, 0.001, 0.01, 0.1, 1, 10],\n",
              "  'reg__l1_ratio': [0, 0.25, 0.5, 0.75, 1]}]"
            ]
          },
          "metadata": {
            "tags": []
          },
          "execution_count": 54
        }
      ]
    },
    {
      "cell_type": "code",
      "metadata": {
        "id": "ovMrX4sJixxs",
        "outputId": "4b1d31d3-31cc-4bbc-a24b-4f62a93ec484",
        "colab": {
          "base_uri": "https://localhost:8080/",
          "height": 35
        }
      },
      "source": [
        "import os\n",
        "pathpre = 'datospre'\n",
        "\n",
        "try:\n",
        "  os.mkdir(pathpre)\n",
        "except:\n",
        "  print(\"Carpeta results ya existe\")"
      ],
      "execution_count": null,
      "outputs": [
        {
          "output_type": "stream",
          "text": [
            "Carpeta results ya existe\n"
          ],
          "name": "stdout"
        }
      ]
    },
    {
      "cell_type": "code",
      "metadata": {
        "id": "_GK56hvUjBqt",
        "outputId": "c8f06346-75e8-4af2-cfdf-b2ac5aa6c61d",
        "colab": {
          "base_uri": "https://localhost:8080/",
          "height": 1000
        }
      },
      "source": [
        "#valildacion cruzada anidada\n",
        "from joblib import dump, load\n",
        "from sklearn.metrics import mean_absolute_error as msa \n",
        "Niter = 10 #numero particiones outter loop nested cross-validation\n",
        "msev =np.zeros((Niter,len(steps)))#arreglo para guardar acierto/error\n",
        "Nmod = len(steps) #numero de modelos a probar\n",
        "best_estimators = Niter*[None]#mejor metodo por iteracion\n",
        "###clave del funcionamiento\n",
        "best_hyperpar = Niter*[None]#mejor metodo por iteracion \n",
        "\n",
        "\n",
        "#############################\n",
        "for j in range(Niter): #outter loop # SI TIENE MENOS DE 1000 DATOS BORRAR ESTE CICLO SOLO CV EN LINEA 16\n",
        "      #print('it %d/%d'%(j+1,Niter))\n",
        "      #particiono datos outter loop\n",
        "      X_trainj, X_testj, y_trainj, y_testj = train_test_split(dftrain_pre,ytrain,test_size=0.3) # xtrain 60, xtest 26\n",
        "      list_est = [] #lista lazo interno para guardar mejor estimador por modelo para iteracion j\n",
        "      list_hyper = [] #lista lazo interno para guardar mejores hyperparametros por modelo para iteracion j\n",
        "      for r in range(Nmod): #recorro todos los posibles modelos a probar en iteracion j del outter loop\n",
        "          grid_search = GridSearchCV(Pipeline(steps[r],memory=pathpre), parameters[r],cv=5,verbose=5,scoring='neg_mean_absolute_error',n_jobs=-1) #cv inner loop\n",
        "          #xtrain gridsearchcv xtrain split en 12 / cv, 60/5 = 12, xtrain 48 datos validar 12\n",
        "          # cv = N -> leave one out N <30\n",
        "          #generar mejor modelo\n",
        "          grid_search.fit(X_trainj,y_trainj)\n",
        "          #estimar salida conjunto de test\n",
        "          y_pred = grid_search.best_estimator_.predict(X_testj)\n",
        "          #guardar mejor modelo\n",
        "          list_est.append(grid_search.best_estimator_)\n",
        "          list_hyper.append(grid_search.best_params_)\n",
        "          #guardar acierto\n",
        "          msev[j,r] = msa(y_testj,y_pred)\n",
        "          print('it %d/%d-Modelo %d/%d'%(j+1,Niter,r+1,len(steps)))\n",
        "          print('best hyper', grid_search.best_params_)\n",
        "          print('msa:',msev[j,r])\n",
        "          \n",
        "      best_estimators[j] = list_est #guardar mejores modelos \n",
        "      best_hyperpar[j] = list_hyper #mejores hyperparametros\n",
        "          \n",
        "          \n",
        "      savedata = {\n",
        "          'acc':msev,\n",
        "          'best_models':best_estimators,\n",
        "          'best_parameters':best_hyperpar,\n",
        "            } \n",
        "      dump(savedata,'videogames.joblib')"
      ],
      "execution_count": null,
      "outputs": [
        {
          "output_type": "stream",
          "text": [
            "Fitting 5 folds for each of 2 candidates, totalling 10 fits\n"
          ],
          "name": "stdout"
        },
        {
          "output_type": "stream",
          "text": [
            "[Parallel(n_jobs=-1)]: Using backend LokyBackend with 2 concurrent workers.\n",
            "[Parallel(n_jobs=-1)]: Done  10 out of  10 | elapsed:    1.5s remaining:    0.0s\n",
            "[Parallel(n_jobs=-1)]: Done  10 out of  10 | elapsed:    1.5s finished\n",
            "[Parallel(n_jobs=-1)]: Using backend LokyBackend with 2 concurrent workers.\n"
          ],
          "name": "stderr"
        },
        {
          "output_type": "stream",
          "text": [
            "it 1/10-Modelo 1/2\n",
            "best hyper {'reg__fit_intercept': True}\n",
            "msa: 4.011455554847524\n",
            "Fitting 5 folds for each of 30 candidates, totalling 150 fits\n"
          ],
          "name": "stdout"
        },
        {
          "output_type": "stream",
          "text": [
            "[Parallel(n_jobs=-1)]: Done  24 tasks      | elapsed:    2.7s\n",
            "[Parallel(n_jobs=-1)]: Done 150 out of 150 | elapsed:    7.8s finished\n",
            "[Parallel(n_jobs=-1)]: Using backend LokyBackend with 2 concurrent workers.\n"
          ],
          "name": "stderr"
        },
        {
          "output_type": "stream",
          "text": [
            "it 1/10-Modelo 2/2\n",
            "best hyper {'reg__alpha': 0.01, 'reg__l1_ratio': 0.5}\n",
            "msa: 4.012725981438147\n",
            "Fitting 5 folds for each of 2 candidates, totalling 10 fits\n"
          ],
          "name": "stdout"
        },
        {
          "output_type": "stream",
          "text": [
            "[Parallel(n_jobs=-1)]: Done  10 out of  10 | elapsed:    0.3s remaining:    0.0s\n",
            "[Parallel(n_jobs=-1)]: Done  10 out of  10 | elapsed:    0.3s finished\n",
            "[Parallel(n_jobs=-1)]: Using backend LokyBackend with 2 concurrent workers.\n"
          ],
          "name": "stderr"
        },
        {
          "output_type": "stream",
          "text": [
            "it 2/10-Modelo 1/2\n",
            "best hyper {'reg__fit_intercept': True}\n",
            "msa: 4.120048046121391\n",
            "Fitting 5 folds for each of 30 candidates, totalling 150 fits\n"
          ],
          "name": "stdout"
        },
        {
          "output_type": "stream",
          "text": [
            "[Parallel(n_jobs=-1)]: Done  14 tasks      | elapsed:    1.8s\n",
            "[Parallel(n_jobs=-1)]: Done  70 tasks      | elapsed:    6.2s\n",
            "[Parallel(n_jobs=-1)]: Done 150 out of 150 | elapsed:    8.6s finished\n",
            "[Parallel(n_jobs=-1)]: Using backend LokyBackend with 2 concurrent workers.\n"
          ],
          "name": "stderr"
        },
        {
          "output_type": "stream",
          "text": [
            "it 2/10-Modelo 2/2\n",
            "best hyper {'reg__alpha': 0, 'reg__l1_ratio': 0}\n",
            "msa: 4.119880181108407\n",
            "Fitting 5 folds for each of 2 candidates, totalling 10 fits\n"
          ],
          "name": "stdout"
        },
        {
          "output_type": "stream",
          "text": [
            "[Parallel(n_jobs=-1)]: Done   7 out of  10 | elapsed:    0.3s remaining:    0.1s\n",
            "[Parallel(n_jobs=-1)]: Done  10 out of  10 | elapsed:    0.3s remaining:    0.0s\n",
            "[Parallel(n_jobs=-1)]: Done  10 out of  10 | elapsed:    0.3s finished\n",
            "[Parallel(n_jobs=-1)]: Using backend LokyBackend with 2 concurrent workers.\n"
          ],
          "name": "stderr"
        },
        {
          "output_type": "stream",
          "text": [
            "it 3/10-Modelo 1/2\n",
            "best hyper {'reg__fit_intercept': True}\n",
            "msa: 4.0580593613251255\n",
            "Fitting 5 folds for each of 30 candidates, totalling 150 fits\n"
          ],
          "name": "stdout"
        },
        {
          "output_type": "stream",
          "text": [
            "[Parallel(n_jobs=-1)]: Done  24 tasks      | elapsed:    2.6s\n",
            "[Parallel(n_jobs=-1)]: Done 150 out of 150 | elapsed:    7.8s finished\n",
            "[Parallel(n_jobs=-1)]: Using backend LokyBackend with 2 concurrent workers.\n"
          ],
          "name": "stderr"
        },
        {
          "output_type": "stream",
          "text": [
            "it 3/10-Modelo 2/2\n",
            "best hyper {'reg__alpha': 0, 'reg__l1_ratio': 0}\n",
            "msa: 4.057906966810335\n",
            "Fitting 5 folds for each of 2 candidates, totalling 10 fits\n"
          ],
          "name": "stdout"
        },
        {
          "output_type": "stream",
          "text": [
            "[Parallel(n_jobs=-1)]: Done  10 out of  10 | elapsed:    0.3s remaining:    0.0s\n",
            "[Parallel(n_jobs=-1)]: Done  10 out of  10 | elapsed:    0.3s finished\n",
            "[Parallel(n_jobs=-1)]: Using backend LokyBackend with 2 concurrent workers.\n"
          ],
          "name": "stderr"
        },
        {
          "output_type": "stream",
          "text": [
            "it 4/10-Modelo 1/2\n",
            "best hyper {'reg__fit_intercept': True}\n",
            "msa: 4.039188287549976\n",
            "Fitting 5 folds for each of 30 candidates, totalling 150 fits\n"
          ],
          "name": "stdout"
        },
        {
          "output_type": "stream",
          "text": [
            "[Parallel(n_jobs=-1)]: Done  14 tasks      | elapsed:    1.4s\n",
            "[Parallel(n_jobs=-1)]: Done  70 tasks      | elapsed:    5.4s\n",
            "[Parallel(n_jobs=-1)]: Done 150 out of 150 | elapsed:    7.8s finished\n",
            "[Parallel(n_jobs=-1)]: Using backend LokyBackend with 2 concurrent workers.\n"
          ],
          "name": "stderr"
        },
        {
          "output_type": "stream",
          "text": [
            "it 4/10-Modelo 2/2\n",
            "best hyper {'reg__alpha': 0, 'reg__l1_ratio': 0}\n",
            "msa: 4.03854936427749\n",
            "Fitting 5 folds for each of 2 candidates, totalling 10 fits\n"
          ],
          "name": "stdout"
        },
        {
          "output_type": "stream",
          "text": [
            "[Parallel(n_jobs=-1)]: Done   7 out of  10 | elapsed:    0.3s remaining:    0.1s\n",
            "[Parallel(n_jobs=-1)]: Done  10 out of  10 | elapsed:    0.3s remaining:    0.0s\n",
            "[Parallel(n_jobs=-1)]: Done  10 out of  10 | elapsed:    0.3s finished\n",
            "[Parallel(n_jobs=-1)]: Using backend LokyBackend with 2 concurrent workers.\n"
          ],
          "name": "stderr"
        },
        {
          "output_type": "stream",
          "text": [
            "it 5/10-Modelo 1/2\n",
            "best hyper {'reg__fit_intercept': True}\n",
            "msa: 4.099079033387267\n",
            "Fitting 5 folds for each of 30 candidates, totalling 150 fits\n"
          ],
          "name": "stdout"
        },
        {
          "output_type": "stream",
          "text": [
            "[Parallel(n_jobs=-1)]: Done  24 tasks      | elapsed:    2.7s\n",
            "[Parallel(n_jobs=-1)]: Done 150 out of 150 | elapsed:    7.8s finished\n",
            "[Parallel(n_jobs=-1)]: Using backend LokyBackend with 2 concurrent workers.\n"
          ],
          "name": "stderr"
        },
        {
          "output_type": "stream",
          "text": [
            "it 5/10-Modelo 2/2\n",
            "best hyper {'reg__alpha': 0, 'reg__l1_ratio': 0}\n",
            "msa: 4.099052681517665\n",
            "Fitting 5 folds for each of 2 candidates, totalling 10 fits\n"
          ],
          "name": "stdout"
        },
        {
          "output_type": "stream",
          "text": [
            "[Parallel(n_jobs=-1)]: Done   7 out of  10 | elapsed:    0.3s remaining:    0.1s\n",
            "[Parallel(n_jobs=-1)]: Done  10 out of  10 | elapsed:    0.3s remaining:    0.0s\n",
            "[Parallel(n_jobs=-1)]: Done  10 out of  10 | elapsed:    0.3s finished\n",
            "[Parallel(n_jobs=-1)]: Using backend LokyBackend with 2 concurrent workers.\n"
          ],
          "name": "stderr"
        },
        {
          "output_type": "stream",
          "text": [
            "it 6/10-Modelo 1/2\n",
            "best hyper {'reg__fit_intercept': True}\n",
            "msa: 4.069386180102924\n",
            "Fitting 5 folds for each of 30 candidates, totalling 150 fits\n"
          ],
          "name": "stdout"
        },
        {
          "output_type": "stream",
          "text": [
            "[Parallel(n_jobs=-1)]: Done  24 tasks      | elapsed:    2.3s\n",
            "[Parallel(n_jobs=-1)]: Done 150 out of 150 | elapsed:    7.6s finished\n",
            "[Parallel(n_jobs=-1)]: Using backend LokyBackend with 2 concurrent workers.\n"
          ],
          "name": "stderr"
        },
        {
          "output_type": "stream",
          "text": [
            "it 6/10-Modelo 2/2\n",
            "best hyper {'reg__alpha': 0, 'reg__l1_ratio': 0}\n",
            "msa: 4.068440434125986\n",
            "Fitting 5 folds for each of 2 candidates, totalling 10 fits\n"
          ],
          "name": "stdout"
        },
        {
          "output_type": "stream",
          "text": [
            "[Parallel(n_jobs=-1)]: Done   7 out of  10 | elapsed:    0.3s remaining:    0.1s\n",
            "[Parallel(n_jobs=-1)]: Done  10 out of  10 | elapsed:    0.3s remaining:    0.0s\n",
            "[Parallel(n_jobs=-1)]: Done  10 out of  10 | elapsed:    0.3s finished\n",
            "[Parallel(n_jobs=-1)]: Using backend LokyBackend with 2 concurrent workers.\n"
          ],
          "name": "stderr"
        },
        {
          "output_type": "stream",
          "text": [
            "it 7/10-Modelo 1/2\n",
            "best hyper {'reg__fit_intercept': True}\n",
            "msa: 4.048851591100405\n",
            "Fitting 5 folds for each of 30 candidates, totalling 150 fits\n"
          ],
          "name": "stdout"
        },
        {
          "output_type": "stream",
          "text": [
            "[Parallel(n_jobs=-1)]: Done  14 tasks      | elapsed:    1.6s\n",
            "[Parallel(n_jobs=-1)]: Done  70 tasks      | elapsed:    6.0s\n",
            "[Parallel(n_jobs=-1)]: Done 150 out of 150 | elapsed:    8.4s finished\n",
            "[Parallel(n_jobs=-1)]: Using backend LokyBackend with 2 concurrent workers.\n"
          ],
          "name": "stderr"
        },
        {
          "output_type": "stream",
          "text": [
            "it 7/10-Modelo 2/2\n",
            "best hyper {'reg__alpha': 0.01, 'reg__l1_ratio': 1}\n",
            "msa: 4.048270903172693\n",
            "Fitting 5 folds for each of 2 candidates, totalling 10 fits\n"
          ],
          "name": "stdout"
        },
        {
          "output_type": "stream",
          "text": [
            "[Parallel(n_jobs=-1)]: Done   7 out of  10 | elapsed:    0.3s remaining:    0.1s\n",
            "[Parallel(n_jobs=-1)]: Done  10 out of  10 | elapsed:    0.4s remaining:    0.0s\n",
            "[Parallel(n_jobs=-1)]: Done  10 out of  10 | elapsed:    0.4s finished\n",
            "[Parallel(n_jobs=-1)]: Using backend LokyBackend with 2 concurrent workers.\n"
          ],
          "name": "stderr"
        },
        {
          "output_type": "stream",
          "text": [
            "it 8/10-Modelo 1/2\n",
            "best hyper {'reg__fit_intercept': True}\n",
            "msa: 4.080891929371928\n",
            "Fitting 5 folds for each of 30 candidates, totalling 150 fits\n"
          ],
          "name": "stdout"
        },
        {
          "output_type": "stream",
          "text": [
            "[Parallel(n_jobs=-1)]: Done  24 tasks      | elapsed:    2.5s\n",
            "[Parallel(n_jobs=-1)]: Done 150 out of 150 | elapsed:    7.3s finished\n",
            "[Parallel(n_jobs=-1)]: Using backend LokyBackend with 2 concurrent workers.\n"
          ],
          "name": "stderr"
        },
        {
          "output_type": "stream",
          "text": [
            "it 8/10-Modelo 2/2\n",
            "best hyper {'reg__alpha': 0, 'reg__l1_ratio': 0}\n",
            "msa: 4.080204228900644\n",
            "Fitting 5 folds for each of 2 candidates, totalling 10 fits\n"
          ],
          "name": "stdout"
        },
        {
          "output_type": "stream",
          "text": [
            "[Parallel(n_jobs=-1)]: Done   7 out of  10 | elapsed:    0.3s remaining:    0.1s\n",
            "[Parallel(n_jobs=-1)]: Done  10 out of  10 | elapsed:    0.3s remaining:    0.0s\n",
            "[Parallel(n_jobs=-1)]: Done  10 out of  10 | elapsed:    0.3s finished\n",
            "[Parallel(n_jobs=-1)]: Using backend LokyBackend with 2 concurrent workers.\n"
          ],
          "name": "stderr"
        },
        {
          "output_type": "stream",
          "text": [
            "it 9/10-Modelo 1/2\n",
            "best hyper {'reg__fit_intercept': True}\n",
            "msa: 4.095596525389448\n",
            "Fitting 5 folds for each of 30 candidates, totalling 150 fits\n"
          ],
          "name": "stdout"
        },
        {
          "output_type": "stream",
          "text": [
            "[Parallel(n_jobs=-1)]: Done  24 tasks      | elapsed:    2.4s\n",
            "[Parallel(n_jobs=-1)]: Done 150 out of 150 | elapsed:    7.4s finished\n",
            "[Parallel(n_jobs=-1)]: Using backend LokyBackend with 2 concurrent workers.\n"
          ],
          "name": "stderr"
        },
        {
          "output_type": "stream",
          "text": [
            "it 9/10-Modelo 2/2\n",
            "best hyper {'reg__alpha': 0, 'reg__l1_ratio': 0}\n",
            "msa: 4.0947884060001725\n",
            "Fitting 5 folds for each of 2 candidates, totalling 10 fits\n"
          ],
          "name": "stdout"
        },
        {
          "output_type": "stream",
          "text": [
            "[Parallel(n_jobs=-1)]: Done   7 out of  10 | elapsed:    0.3s remaining:    0.1s\n",
            "[Parallel(n_jobs=-1)]: Done  10 out of  10 | elapsed:    0.3s remaining:    0.0s\n",
            "[Parallel(n_jobs=-1)]: Done  10 out of  10 | elapsed:    0.3s finished\n",
            "[Parallel(n_jobs=-1)]: Using backend LokyBackend with 2 concurrent workers.\n"
          ],
          "name": "stderr"
        },
        {
          "output_type": "stream",
          "text": [
            "it 10/10-Modelo 1/2\n",
            "best hyper {'reg__fit_intercept': True}\n",
            "msa: 4.078275872400066\n",
            "Fitting 5 folds for each of 30 candidates, totalling 150 fits\n"
          ],
          "name": "stdout"
        },
        {
          "output_type": "stream",
          "text": [
            "[Parallel(n_jobs=-1)]: Done  24 tasks      | elapsed:    2.8s\n"
          ],
          "name": "stderr"
        },
        {
          "output_type": "stream",
          "text": [
            "it 10/10-Modelo 2/2\n",
            "best hyper {'reg__alpha': 0.01, 'reg__l1_ratio': 1}\n",
            "msa: 4.0787144163712\n"
          ],
          "name": "stdout"
        },
        {
          "output_type": "stream",
          "text": [
            "[Parallel(n_jobs=-1)]: Done 150 out of 150 | elapsed:    7.9s finished\n"
          ],
          "name": "stderr"
        }
      ]
    },
    {
      "cell_type": "code",
      "metadata": {
        "id": "1ppoKkgal9Bt",
        "outputId": "77ad4c06-43b5-4f3e-e253-4e2c6a0c66b3",
        "colab": {
          "base_uri": "https://localhost:8080/",
          "height": 300
        }
      },
      "source": [
        "from scipy.stats import mode\n",
        "from datetime import date\n",
        "\n",
        "r = 1 #hyperparameters model 1\n",
        "nh = len(best_hyperpar[0][r])\n",
        "hyperpar_r = np.zeros((Niter,nh)) \n",
        "for i in range(Niter):\n",
        "  for j in range(nh):\n",
        "    hyperpar_r[i,j] = best_hyperpar[i][r].get(list(best_hyperpar[i][r].keys())[j])\n",
        "    \n",
        "    \n",
        "#revisar numero entero para realizar casting\n",
        "aa = list(best_hyperpar[0][r].keys())\n",
        "c = -1\n",
        "for i in range(len(aa)):\n",
        "    if aa[i].find('n_neighbors') > -1:\n",
        "      c = i\n",
        "\n",
        "plt.boxplot(hyperpar_r)\n",
        "plt.xticks(ticks=np.arange(nh)+1,labels=list(best_hyperpar[0][r].keys()))\n",
        "plt.title('Best_hyperparameters '+label_model[r])\n",
        "plt.grid()\n",
        "plt.show()\n",
        "\n",
        "mode_hyper = mode(hyperpar_r,axis=0)[0][0]\n",
        "print(\"Modes= \", mode_hyper)"
      ],
      "execution_count": null,
      "outputs": [
        {
          "output_type": "display_data",
          "data": {
            "image/png": "[encoded data removed]",
            "text/plain": [
              "<Figure size 432x288 with 1 Axes>"
            ]
          },
          "metadata": {
            "tags": [],
            "needs_background": "light"
          }
        },
        {
          "output_type": "stream",
          "text": [
            "Modes=  [0. 0.]\n"
          ],
          "name": "stdout"
        }
      ]
    },
    {
      "cell_type": "markdown",
      "metadata": {
        "id": "toLYISEVmTKp"
      },
      "source": [
        "# Modelo definitivo\n",
        "\n",
        "Con los mejores hiperparámetros entreno sobre Xtrain completo el modelo final"
      ]
    },
    {
      "cell_type": "code",
      "metadata": {
        "id": "_NoVVCBTmPje",
        "outputId": "cd1a83e0-5143-4e4f-b569-e2178e757f83",
        "colab": {
          "base_uri": "https://localhost:8080/",
          "height": 195
        }
      },
      "source": [
        "r = 1 #camino elastic net\n",
        "steps_final = [('scaler',StandardScaler()),\n",
        "               ('reg',ElasticNet(alpha=0.0,l1_ratio=0))]  \n",
        "         \n",
        "modelo_final = Pipeline(steps_final)\n",
        "modelo_final.fit(dftrain_pre,ytrain)"
      ],
      "execution_count": null,
      "outputs": [
        {
          "output_type": "execute_result",
          "data": {
            "text/plain": [
              "Pipeline(memory=None,\n",
              "         steps=[('scaler',\n",
              "                 StandardScaler(copy=True, with_mean=True, with_std=True)),\n",
              "                ('reg',\n",
              "                 ElasticNet(alpha=0.0, copy_X=True, fit_intercept=True,\n",
              "                            l1_ratio=0, max_iter=1000, normalize=False,\n",
              "                            positive=False, precompute=False, random_state=None,\n",
              "                            selection='cyclic', tol=0.0001,\n",
              "                            warm_start=False))],\n",
              "         verbose=False)"
            ]
          },
          "metadata": {
            "tags": []
          },
          "execution_count": 58
        }
      ]
    },
    {
      "cell_type": "markdown",
      "metadata": {
        "id": "O4M6kYhRm28a"
      },
      "source": [
        "# Caso real evaluación datos nuevos"
      ]
    },
    {
      "cell_type": "code",
      "metadata": {
        "id": "UKWUcLFIm3-7"
      },
      "source": [
        "ytest_e = modelo_final.predict(dummy.transform(df_test)) #simular casos nuevos"
      ],
      "execution_count": null,
      "outputs": []
    },
    {
      "cell_type": "code",
      "metadata": {
        "id": "ymoZ1E15m9Hl",
        "outputId": "b372204e-b9ea-4da0-975a-8b1e08125085",
        "colab": {
          "base_uri": "https://localhost:8080/",
          "height": 35
        }
      },
      "source": [
        "print('MAE_test=', msa(ytest,ytest_e))"
      ],
      "execution_count": null,
      "outputs": [
        {
          "output_type": "stream",
          "text": [
            "MAE_test= 3.9567832730288717\n"
          ],
          "name": "stdout"
        }
      ]
    },
    {
      "cell_type": "code",
      "metadata": {
        "id": "7r2zZSIPm9hr",
        "outputId": "269822ea-f903-4369-e042-76d11f0c09fd",
        "colab": {
          "base_uri": "https://localhost:8080/",
          "height": 35
        }
      },
      "source": [
        "pathpre = 'resultados'\n",
        "\n",
        "try:\n",
        "  os.mkdir(pathpre)\n",
        "except:\n",
        "  print(\"Carpeta results ya existe\")"
      ],
      "execution_count": null,
      "outputs": [
        {
          "output_type": "stream",
          "text": [
            "Carpeta results ya existe\n"
          ],
          "name": "stdout"
        }
      ]
    },
    {
      "cell_type": "code",
      "metadata": {
        "id": "UQTAZOSym_OJ",
        "outputId": "254a3a78-ffb9-4b43-9e98-7a9e28baf00f",
        "colab": {
          "base_uri": "https://localhost:8080/",
          "height": 17
        }
      },
      "source": [
        "import shutil\n",
        "from joblib import dump, load\n",
        "from datetime import date, datetime\n",
        "from google.colab import files\n",
        "\n",
        "modelo_final = {'modelo':modelo_final,\n",
        "          'pasos':label_model[1],\n",
        "          'mae_test':msa(ytest,ytest_e),\n",
        "            } \n",
        "\n",
        "dump(modelo_final,'resultados/modelo_final.joblib')\n",
        "namefile = str(datetime.now().strftime(\"%Y_%m_%d_%H_%M_%d\"))+'__modelo'\n",
        "shutil.make_archive(namefile, 'zip', 'resultados')\n",
        "files.download(namefile+'.zip')"
      ],
      "execution_count": null,
      "outputs": [
        {
          "output_type": "display_data",
          "data": {
            "application/javascript": [
              "\n",
              "    async function download(id, filename, size) {\n",
              "      if (!google.colab.kernel.accessAllowed) {\n",
              "        return;\n",
              "      }\n",
              "      const div = document.createElement('div');\n",
              "      const label = document.createElement('label');\n",
              "      label.textContent = `Downloading \"${filename}\": `;\n",
              "      div.appendChild(label);\n",
              "      const progress = document.createElement('progress');\n",
              "      progress.max = size;\n",
              "      div.appendChild(progress);\n",
              "      document.body.appendChild(div);\n",
              "\n",
              "      const buffers = [];\n",
              "      let downloaded = 0;\n",
              "\n",
              "      const channel = await google.colab.kernel.comms.open(id);\n",
              "      // Send a message to notify the kernel that we're ready.\n",
              "      channel.send({})\n",
              "\n",
              "      for await (const message of channel.messages) {\n",
              "        // Send a message to notify the kernel that we're ready.\n",
              "        channel.send({})\n",
              "        if (message.buffers) {\n",
              "          for (const buffer of message.buffers) {\n",
              "            buffers.push(buffer);\n",
              "            downloaded += buffer.byteLength;\n",
              "            progress.value = downloaded;\n",
              "          }\n",
              "        }\n",
              "      }\n",
              "      const blob = new Blob(buffers, {type: 'application/binary'});\n",
              "      const a = document.createElement('a');\n",
              "      a.href = window.URL.createObjectURL(blob);\n",
              "      a.download = filename;\n",
              "      div.appendChild(a);\n",
              "      a.click();\n",
              "      div.remove();\n",
              "    }\n",
              "  "
            ],
            "text/plain": [
              "<IPython.core.display.Javascript object>"
            ]
          },
          "metadata": {
            "tags": []
          }
        },
        {
          "output_type": "display_data",
          "data": {
            "application/javascript": [
              "download(\"download_b7f2dd1d-35f6-4676-96df-6febedadb661\", \"2020_10_21_00_06_21__modelo.zip\", 1502)"
            ],
            "text/plain": [
              "<IPython.core.display.Javascript object>"
            ]
          },
          "metadata": {
            "tags": []
          }
        }
      ]
    },
    {
      "cell_type": "code",
      "metadata": {
        "id": "AaAwpk00nBC_"
      },
      "source": [
        ""
      ],
      "execution_count": null,
      "outputs": []
    }
  ]
}